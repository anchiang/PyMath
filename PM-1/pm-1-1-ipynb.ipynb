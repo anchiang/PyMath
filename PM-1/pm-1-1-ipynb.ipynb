{
 "cells": [
  {
   "cell_type": "code",
   "execution_count": 1,
   "metadata": {
    "collapsed": false
   },
   "outputs": [
    {
     "data": {
      "text/plain": [
       "2016"
      ]
     },
     "execution_count": 1,
     "metadata": {
     },
     "output_type": "execute_result"
    }
   ],
   "source": [
    "9*4*8*7"
   ]
  },
  {
   "cell_type": "raw",
   "metadata": {
    "collapsed": false
   },
   "source": [
    "Raw 是純文字格式，可以隨意書寫\n",
    "9*4*8*7"
   ]
  },
  {
   "cell_type": "markdown",
   "metadata": {
    "collapsed": false
   },
   "source": [
    "## MarkDown 簡介\n",
    "Markdown 就是格式化文字\n",
    "\n",
    "* 使用 \\* 包住文字就可以變*斜體*\n",
    "\n",
    "* 使用 \\$ 包住就可以寫數學式 $e^{i \\pi}+1=0$\n",
    "\n",
    "* 利用 ## 開頭就可以進入標題模式\n",
    "\n",
    "* 利用 * 開頭就進入條列模式"
   ]
  },
  {
   "cell_type": "code",
   "execution_count": 3,
   "metadata": {
    "collapsed": false
   },
   "outputs": [
    {
     "data": {
      "text/plain": [
       "[<matplotlib.lines.Line2D at 0x7f06e6860668>]"
      ]
     },
     "execution_count": 3,
     "metadata": {
     },
     "output_type": "execute_result"
    },
    {
     "data": {
      "image/png": "[encoded data removed]"
     },
     "metadata": {
      "image/png": {
       "height": 250,
       "width": 370
      }
     }
    }
   ],
   "source": [
    "import matplotlib.pyplot as plt\n",
    "x = [10*i for i in range(1,37)]\n",
    "y = [1.01**n for n in x]\n",
    "plt.plot(x,y,marker=\".\")"
   ]
  },
  {
   "cell_type": "code",
   "execution_count": 0,
   "metadata": {
    "collapsed": false
   },
   "outputs": [
   ],
   "source": [
   ]
  }
 ],
 "metadata": {
  "kernelspec": {
   "display_name": "Python 3 (Anaconda)",
   "language": "python",
   "name": "anaconda3"
  }
 },
 "nbformat": 4,
 "nbformat_minor": 0
}